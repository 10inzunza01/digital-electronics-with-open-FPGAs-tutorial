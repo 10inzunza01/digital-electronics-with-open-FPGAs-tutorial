{
 "cells": [
  {
   "cell_type": "markdown",
   "metadata": {},
   "source": [
    "# Control interactivo de un servo"
   ]
  },
  {
   "cell_type": "markdown",
   "metadata": {},
   "source": [
    "Ejemplo de control de un servo desde la interfaz del navegador  \n",
    "El servo está conectado a la FPGA, donde está el servidor \"hardware\". Desde este cuaderno se envían las posiciones a la que moverlo"
   ]
  },
  {
   "cell_type": "markdown",
   "metadata": {},
   "source": [
    "## Abrir el puerto serie"
   ]
  },
  {
   "cell_type": "code",
   "execution_count": 2,
   "metadata": {},
   "outputs": [
    {
     "name": "stdout",
     "output_type": "stream",
     "text": [
      "/dev/ttyUSB2\n"
     ]
    }
   ],
   "source": [
    "import serial\n",
    "\n",
    "SERIAL_PORT = \"/dev/ttyUSB2\"\n",
    "sp = serial.Serial(SERIAL_PORT, 115200)\n",
    "\n",
    "#-- Imprimir la información del puerto serie abierto\n",
    "print(sp.portstr)"
   ]
  },
  {
   "cell_type": "markdown",
   "metadata": {},
   "source": [
    "## Función de posicionamiento del servo\n",
    "\n",
    "Función para posicionar el servo. Tiene dos parámetros la posición y la habilitación"
   ]
  },
  {
   "cell_type": "code",
   "execution_count": 3,
   "metadata": {},
   "outputs": [],
   "source": [
    "\n",
    "def servo_pos(pos,ena):\n",
    "    \n",
    "    #-- Covertir a byte\n",
    "    p = bytes([pos]);\n",
    "    \n",
    "    #-- Actualizar posición del servo\n",
    "    #-- Si la posición enviada coincide con el comando\n",
    "    #-- disable, no se envía\n",
    "    if p != b'd':\n",
    "      sp.write(p)\n",
    "    \n",
    "    #-- Habilitar/deshabilitar el servo\n",
    "    if ena == False:\n",
    "        sp.write(b'd')\n",
    "    else:\n",
    "        sp.write(b'e')\n",
    "    return"
   ]
  },
  {
   "cell_type": "markdown",
   "metadata": {},
   "source": [
    "## Control interactivo\n",
    "\n",
    "Barra deslizadora para posicionar el servo. Botón de habilitar/deshabilitar el servo  \n",
    "Cada vez que hay un cambio en alguno de los elementos se invoca a la función servo_pos"
   ]
  },
  {
   "cell_type": "code",
   "execution_count": 4,
   "metadata": {
    "scrolled": true
   },
   "outputs": [
    {
     "data": {
      "application/vnd.jupyter.widget-view+json": {
       "model_id": "eddbad0ff92a4445888ed1517f2745ba",
       "version_major": 2,
       "version_minor": 0
      },
      "text/plain": [
       "interactive(children=(IntSlider(value=142, description='pos', max=225, min=60), Checkbox(value=True, descripti…"
      ]
     },
     "metadata": {},
     "output_type": "display_data"
    }
   ],
   "source": [
    "from ipywidgets import interact\n",
    "\n",
    "interact(servo_pos,pos=(60,225), ena=True);"
   ]
  }
 ],
 "metadata": {
  "kernelspec": {
   "display_name": "Python 3",
   "language": "python",
   "name": "python3"
  },
  "language_info": {
   "codemirror_mode": {
    "name": "ipython",
    "version": 3
   },
   "file_extension": ".py",
   "mimetype": "text/x-python",
   "name": "python",
   "nbconvert_exporter": "python",
   "pygments_lexer": "ipython3",
   "version": "3.7.0"
  }
 },
 "nbformat": 4,
 "nbformat_minor": 2
}
